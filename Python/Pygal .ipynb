{
 "cells": [
  {
   "cell_type": "code",
   "execution_count": 1,
   "id": "44ebecbf",
   "metadata": {},
   "outputs": [
    {
     "name": "stdout",
     "output_type": "stream",
     "text": [
      "Defaulting to user installation because normal site-packages is not writeable\n",
      "Requirement already satisfied: opendatasets in c:\\users\\jimen\\appdata\\roaming\\python\\python39\\site-packages (0.1.22)\n",
      "Requirement already satisfied: tqdm in c:\\programdata\\anaconda3\\lib\\site-packages (from opendatasets) (4.64.1)\n",
      "Requirement already satisfied: click in c:\\programdata\\anaconda3\\lib\\site-packages (from opendatasets) (8.0.4)\n",
      "Requirement already satisfied: kaggle in c:\\users\\jimen\\appdata\\roaming\\python\\python39\\site-packages (from opendatasets) (1.5.12)\n",
      "Requirement already satisfied: colorama in c:\\programdata\\anaconda3\\lib\\site-packages (from click->opendatasets) (0.4.5)\n",
      "Requirement already satisfied: certifi in c:\\programdata\\anaconda3\\lib\\site-packages (from kaggle->opendatasets) (2022.9.14)\n",
      "Requirement already satisfied: requests in c:\\programdata\\anaconda3\\lib\\site-packages (from kaggle->opendatasets) (2.28.1)\n",
      "Requirement already satisfied: six>=1.10 in c:\\programdata\\anaconda3\\lib\\site-packages (from kaggle->opendatasets) (1.16.0)\n",
      "Requirement already satisfied: python-dateutil in c:\\programdata\\anaconda3\\lib\\site-packages (from kaggle->opendatasets) (2.8.2)\n",
      "Requirement already satisfied: python-slugify in c:\\programdata\\anaconda3\\lib\\site-packages (from kaggle->opendatasets) (5.0.2)\n",
      "Requirement already satisfied: urllib3 in c:\\programdata\\anaconda3\\lib\\site-packages (from kaggle->opendatasets) (1.26.11)\n",
      "Requirement already satisfied: text-unidecode>=1.3 in c:\\programdata\\anaconda3\\lib\\site-packages (from python-slugify->kaggle->opendatasets) (1.3)\n",
      "Requirement already satisfied: idna<4,>=2.5 in c:\\programdata\\anaconda3\\lib\\site-packages (from requests->kaggle->opendatasets) (3.3)\n",
      "Requirement already satisfied: charset-normalizer<3,>=2 in c:\\programdata\\anaconda3\\lib\\site-packages (from requests->kaggle->opendatasets) (2.0.4)\n",
      "Note: you may need to restart the kernel to use updated packages.\n"
     ]
    }
   ],
   "source": [
    "pip install opendatasets "
   ]
  },
  {
   "cell_type": "code",
   "execution_count": 57,
   "id": "d12ba49a",
   "metadata": {},
   "outputs": [],
   "source": [
    "import opendatasets as od "
   ]
  },
  {
   "cell_type": "code",
   "execution_count": 58,
   "id": "05651102",
   "metadata": {},
   "outputs": [],
   "source": [
    "dataset= 'https://www.kaggle.com/datasets/surajjha101/top-youtube-channels-data'"
   ]
  },
  {
   "cell_type": "code",
   "execution_count": 59,
   "id": "f52729d5",
   "metadata": {},
   "outputs": [
    {
     "name": "stdout",
     "output_type": "stream",
     "text": [
      "Skipping, found downloaded files in \".\\top-youtube-channels-data\" (use force=True to force download)\n"
     ]
    }
   ],
   "source": [
    "od.download(dataset)"
   ]
  },
  {
   "cell_type": "code",
   "execution_count": 32,
   "id": "75d28af0",
   "metadata": {},
   "outputs": [],
   "source": [
    "import os "
   ]
  },
  {
   "cell_type": "code",
   "execution_count": 33,
   "id": "4ac435be",
   "metadata": {},
   "outputs": [],
   "source": [
    "data_dir = './top-youtube-channels-data'"
   ]
  },
  {
   "cell_type": "code",
   "execution_count": 34,
   "id": "eec57292",
   "metadata": {},
   "outputs": [
    {
     "data": {
      "text/plain": [
       "['.ipynb_checkpoints']"
      ]
     },
     "execution_count": 34,
     "metadata": {},
     "output_type": "execute_result"
    }
   ],
   "source": [
    "os.listdir(data_dir )"
   ]
  },
  {
   "cell_type": "code",
   "execution_count": 35,
   "id": "2ab03ede",
   "metadata": {},
   "outputs": [],
   "source": [
    "import pandas as pd\n",
    " "
   ]
  },
  {
   "cell_type": "code",
   "execution_count": 36,
   "id": "57019bee",
   "metadata": {},
   "outputs": [
    {
     "data": {
      "text/html": [
       "<div>\n",
       "<style scoped>\n",
       "    .dataframe tbody tr th:only-of-type {\n",
       "        vertical-align: middle;\n",
       "    }\n",
       "\n",
       "    .dataframe tbody tr th {\n",
       "        vertical-align: top;\n",
       "    }\n",
       "\n",
       "    .dataframe thead th {\n",
       "        text-align: right;\n",
       "    }\n",
       "</style>\n",
       "<table border=\"1\" class=\"dataframe\">\n",
       "  <thead>\n",
       "    <tr style=\"text-align: right;\">\n",
       "      <th></th>\n",
       "      <th>rank</th>\n",
       "      <th>Youtuber</th>\n",
       "      <th>subscribers</th>\n",
       "      <th>video views</th>\n",
       "      <th>video count</th>\n",
       "      <th>category</th>\n",
       "      <th>started</th>\n",
       "    </tr>\n",
       "  </thead>\n",
       "  <tbody>\n",
       "    <tr>\n",
       "      <th>0</th>\n",
       "      <td>1</td>\n",
       "      <td>T-Series</td>\n",
       "      <td>222,000,000</td>\n",
       "      <td>198,459,090,822</td>\n",
       "      <td>17,317</td>\n",
       "      <td>Music</td>\n",
       "      <td>2006</td>\n",
       "    </tr>\n",
       "    <tr>\n",
       "      <th>1</th>\n",
       "      <td>2</td>\n",
       "      <td>YouTube Movies</td>\n",
       "      <td>154,000,000</td>\n",
       "      <td>0</td>\n",
       "      <td>0</td>\n",
       "      <td>Film &amp; Animation</td>\n",
       "      <td>2015</td>\n",
       "    </tr>\n",
       "    <tr>\n",
       "      <th>2</th>\n",
       "      <td>3</td>\n",
       "      <td>Cocomelon - Nursery Rhymes</td>\n",
       "      <td>140,000,000</td>\n",
       "      <td>135,481,339,848</td>\n",
       "      <td>786</td>\n",
       "      <td>Education</td>\n",
       "      <td>2006</td>\n",
       "    </tr>\n",
       "    <tr>\n",
       "      <th>3</th>\n",
       "      <td>4</td>\n",
       "      <td>SET India</td>\n",
       "      <td>139,000,000</td>\n",
       "      <td>125,764,252,686</td>\n",
       "      <td>91,271</td>\n",
       "      <td>Shows</td>\n",
       "      <td>2006</td>\n",
       "    </tr>\n",
       "    <tr>\n",
       "      <th>4</th>\n",
       "      <td>5</td>\n",
       "      <td>Music</td>\n",
       "      <td>116,000,000</td>\n",
       "      <td>0</td>\n",
       "      <td>0</td>\n",
       "      <td>NaN</td>\n",
       "      <td>2013</td>\n",
       "    </tr>\n",
       "    <tr>\n",
       "      <th>...</th>\n",
       "      <td>...</td>\n",
       "      <td>...</td>\n",
       "      <td>...</td>\n",
       "      <td>...</td>\n",
       "      <td>...</td>\n",
       "      <td>...</td>\n",
       "      <td>...</td>\n",
       "    </tr>\n",
       "    <tr>\n",
       "      <th>995</th>\n",
       "      <td>996</td>\n",
       "      <td>JP Plays</td>\n",
       "      <td>10,900,000</td>\n",
       "      <td>4,609,300,218</td>\n",
       "      <td>3,528</td>\n",
       "      <td>Gaming</td>\n",
       "      <td>2014</td>\n",
       "    </tr>\n",
       "    <tr>\n",
       "      <th>996</th>\n",
       "      <td>997</td>\n",
       "      <td>TrapMusicHDTV</td>\n",
       "      <td>10,900,000</td>\n",
       "      <td>4,070,521,973</td>\n",
       "      <td>690</td>\n",
       "      <td>Music</td>\n",
       "      <td>2013</td>\n",
       "    </tr>\n",
       "    <tr>\n",
       "      <th>997</th>\n",
       "      <td>998</td>\n",
       "      <td>Games EduUu</td>\n",
       "      <td>10,900,000</td>\n",
       "      <td>3,093,784,767</td>\n",
       "      <td>1,006</td>\n",
       "      <td>Gaming</td>\n",
       "      <td>2011</td>\n",
       "    </tr>\n",
       "    <tr>\n",
       "      <th>998</th>\n",
       "      <td>999</td>\n",
       "      <td>Hueva</td>\n",
       "      <td>10,900,000</td>\n",
       "      <td>3,040,301,750</td>\n",
       "      <td>831</td>\n",
       "      <td>Gaming</td>\n",
       "      <td>2012</td>\n",
       "    </tr>\n",
       "    <tr>\n",
       "      <th>999</th>\n",
       "      <td>1000</td>\n",
       "      <td>Dobre Brothers</td>\n",
       "      <td>10,900,000</td>\n",
       "      <td>2,808,411,693</td>\n",
       "      <td>590</td>\n",
       "      <td>People &amp; Blogs</td>\n",
       "      <td>2017</td>\n",
       "    </tr>\n",
       "  </tbody>\n",
       "</table>\n",
       "<p>1000 rows × 7 columns</p>\n",
       "</div>"
      ],
      "text/plain": [
       "     rank                    Youtuber  subscribers      video views  \\\n",
       "0       1                    T-Series  222,000,000  198,459,090,822   \n",
       "1       2              YouTube Movies  154,000,000                0   \n",
       "2       3  Cocomelon - Nursery Rhymes  140,000,000  135,481,339,848   \n",
       "3       4                   SET India  139,000,000  125,764,252,686   \n",
       "4       5                       Music  116,000,000                0   \n",
       "..    ...                         ...          ...              ...   \n",
       "995   996                    JP Plays   10,900,000    4,609,300,218   \n",
       "996   997               TrapMusicHDTV   10,900,000    4,070,521,973   \n",
       "997   998                 Games EduUu   10,900,000    3,093,784,767   \n",
       "998   999                       Hueva   10,900,000    3,040,301,750   \n",
       "999  1000              Dobre Brothers   10,900,000    2,808,411,693   \n",
       "\n",
       "    video count          category  started  \n",
       "0        17,317             Music     2006  \n",
       "1             0  Film & Animation     2015  \n",
       "2           786         Education     2006  \n",
       "3        91,271             Shows     2006  \n",
       "4             0               NaN     2013  \n",
       "..          ...               ...      ...  \n",
       "995       3,528            Gaming     2014  \n",
       "996         690             Music     2013  \n",
       "997       1,006            Gaming     2011  \n",
       "998         831            Gaming     2012  \n",
       "999         590    People & Blogs     2017  \n",
       "\n",
       "[1000 rows x 7 columns]"
      ]
     },
     "execution_count": 36,
     "metadata": {},
     "output_type": "execute_result"
    }
   ],
   "source": [
    "pd_file=pd.read_csv('most_subscribed_youtube_channels.csv')\n",
    "pd_file"
   ]
  },
  {
   "cell_type": "code",
   "execution_count": 37,
   "id": "f9bf087f",
   "metadata": {},
   "outputs": [
    {
     "name": "stdout",
     "output_type": "stream",
     "text": [
      "file://C:/Users/jimen/AppData/Local/Temp/tmpk8ojtj6i.html\n"
     ]
    }
   ],
   "source": [
    "import pygal\n",
    "\n",
    "# Filter the top 10 channels by subscribers\n",
    "top_10 =pd_file.sort_values('subscribers', ascending=False)[:10]\n",
    "# Create a bar chart\n",
    "bar_chart = pygal.Bar(title='Top 10 Most Subscribed YouTube Channels')\n",
    "\n",
    "# Add the data to the chart\n",
    "for _, row in top_10.iterrows():\n",
    "    subscribers = int(row['subscribers'].replace(',', ''))\n",
    "    bar_chart.add(row['Youtuber'], subscribers)\n",
    "# Render the chart\n",
    "bar_chart.render_in_browser()"
   ]
  },
  {
   "cell_type": "code",
   "execution_count": 43,
   "id": "3487a80a",
   "metadata": {},
   "outputs": [
    {
     "name": "stderr",
     "output_type": "stream",
     "text": [
      "C:\\Users\\jimen\\AppData\\Local\\Temp\\ipykernel_19640\\1005357339.py:10: SettingWithCopyWarning: \n",
      "A value is trying to be set on a copy of a slice from a DataFrame.\n",
      "Try using .loc[row_indexer,col_indexer] = value instead\n",
      "\n",
      "See the caveats in the documentation: https://pandas.pydata.org/pandas-docs/stable/user_guide/indexing.html#returning-a-view-versus-a-copy\n",
      "  pd_top_5['subscribers'] = pd_top_5['subscribers'].str.replace(',', '').astype(int)\n"
     ]
    }
   ],
   "source": [
    "import pygal\n",
    "\n",
    "# Leer el archivo csv\n",
    "pd_file = pd.read_csv('most_subscribed_youtube_channels.csv')\n",
    "\n",
    "# Seleccionar los 5 youtubers con más suscriptores\n",
    "pd_top_5 = pd_file.head()\n",
    "\n",
    "# Convertir el valor de la columna \"subscribers\" a un tipo de dato numérico\n",
    "pd_top_5['subscribers'] = pd_top_5['subscribers'].str.replace(',', '').astype(int)\n",
    "\n",
    "# Crear un gráfico de pastel con Pygal\n",
    "pie_chart = pygal.Pie(title='1 Cinco Canales de Youtube con más suscriptores')\n",
    "\n",
    "# Agregar los datos al gráfico de pastel\n",
    "for index, row in pd_top_5.iterrows():\n",
    "    pie_chart.add(row['Youtuber'], row['subscribers'])\n",
    "\n",
    "# Renderizar el gráfico de pastel en el navegador\n",
    "#pie_chart.render_in_browser()\n",
    "pie_chart.render_to_file('5Canales_MasSuscriptores.svg')\n"
   ]
  },
  {
   "cell_type": "code",
   "execution_count": 44,
   "id": "d3fb72be",
   "metadata": {},
   "outputs": [],
   "source": [
    "import pygal\n",
    "import pandas as pd\n",
    "\n",
    "\n",
    "# convertir 'video views' a numeros enteros\n",
    "pd_file['video views'] = pd_file['video views'].str.replace(',', '').astype(float)\n",
    "\n",
    "# ordenar por 'video views' en orden descendente y seleccionar las 10 filas principales\n",
    "top_10 = pd_file[['Youtuber', 'video views']].sort_values(by='video views', ascending=False).head(10)\n",
    "\n",
    "# graficar\n",
    "bar_chart = pygal.Bar()\n",
    "bar_chart.title = '2 Top 10 YouTubers por vistas'\n",
    "for index, row in top_10.iterrows():\n",
    "    bar_chart.add(row['Youtuber'], row['video views'])\n",
    "\n",
    "#bar_chart.render_in_browser()\n",
    "bar_chart.render_to_file('topvistas.svg')\n",
    "\n",
    "\n",
    "\n"
   ]
  },
  {
   "cell_type": "code",
   "execution_count": 45,
   "id": "9d397516",
   "metadata": {},
   "outputs": [],
   "source": [
    "import csv\n",
    "import pygal\n",
    "\n",
    "# Crear un diccionario para contar las categorías\n",
    "categories = {}\n",
    "\n",
    "# Leer el archivo CSV y contar las categorías\n",
    "with open('most_subscribed_youtube_channels.csv', newline='', encoding='utf-8') as csvfile:\n",
    "    reader = csv.DictReader(csvfile)\n",
    "    for row in reader:\n",
    "        category = row['category']\n",
    "        if category not in categories:\n",
    "            categories[category] = 1\n",
    "        else:\n",
    "            categories[category] += 1\n",
    "\n",
    "# Crear un gráfico de barras utilizando Pygal\n",
    "bar_chart = pygal.Bar()\n",
    "bar_chart.title = '3 Cantidad de Youtubers por Categoría'\n",
    "for category, count in categories.items():\n",
    "    bar_chart.add(category, count)\n",
    "\n",
    "# Renderizar el gráfico\n",
    "#bar_chart.render_in_browser()\n",
    "bar_chart.render_to_file('youtuberscategoria.svg')\n"
   ]
  },
  {
   "cell_type": "code",
   "execution_count": 46,
   "id": "671ec892",
   "metadata": {},
   "outputs": [],
   "source": [
    "import pandas as pd\n",
    "import pygal\n",
    "\n",
    "\n",
    "# Leer el archivo CSV en un DataFrame de Pandas\n",
    "pd_file = pd.read_csv('most_subscribed_youtube_channels.csv')\n",
    "\n",
    "# Convertir la columna 'subscribers' a tipo float y filtrar los canales con más de 20 millones de suscriptores\n",
    "pd_file['subscribers'] = pd_file['subscribers'].str.replace(',', '').astype(float)\n",
    "pd_file = pd_file.loc[pd_file['subscribers'] > 20]\n",
    "\n",
    "# Crear un gráfico de barras con Pygal\n",
    "bar_chart = pygal.HorizontalBar(title='Canales con más de 20 millones de suscriptores')\n",
    "\n",
    "# Agregar los datos al gráfico de barras\n",
    "for index, row in pd_file.iterrows():\n",
    "    bar_chart.add(row['Youtuber'], row['subscribers'])\n",
    "\n",
    "# Definir los títulos de los ejes\n",
    "bar_chart.x_title = 'Suscriptores (millones)'\n",
    "bar_chart.y_title = 'Youtubers'\n",
    "\n",
    "# Renderizar el gráfico de barras en el navegador\n",
    "# bar_chart.render_in_browser()\n",
    "bar_chart.render_to_file('20msuscriptores.svg')\n",
    "\n"
   ]
  },
  {
   "cell_type": "code",
   "execution_count": 47,
   "id": "9d3c2a52",
   "metadata": {},
   "outputs": [],
   "source": [
    "import pandas as pd\n",
    "import pygal\n",
    "# Seleccionar los datos que cumplen con los criterios de más de 10 millones y menos de 25 millones de suscriptores\n",
    "pd_file_selected = pd_file[(pd_file['subscribers'] > 10_000_000) & (pd_file['subscribers'] < 25_000_000)]\n",
    "\n",
    "# Extraer las columnas 'channel_name' y 'category'\n",
    "pd_file_chart = pd_file_selected[['Youtuber', 'category']]\n",
    "\n",
    "category_counts = pd_file_chart.groupby('category').count()['Youtuber']\n",
    "# Crear el gráfico de barras con Pygal\n",
    "bar_chart = pygal.Bar(width=800, height=400, x_title='Categoría', y_title='Número de youtubers')\n",
    "bar_chart.title = '5 Youtubers con más de 10M y menos de 25M de suscriptores por categoría'\n",
    "for category, count in category_counts.iteritems():\n",
    "    bar_chart.add(category, count)\n",
    "\n",
    "#bar_chart.render_in_browser()\n",
    "bar_chart.render_to_file('youtubers_10M-25M.svg')\n",
    "\n"
   ]
  },
  {
   "cell_type": "code",
   "execution_count": null,
   "id": "3e2c2da1",
   "metadata": {},
   "outputs": [],
   "source": []
  }
 ],
 "metadata": {
  "kernelspec": {
   "display_name": "Python 3 (ipykernel)",
   "language": "python",
   "name": "python3"
  },
  "language_info": {
   "codemirror_mode": {
    "name": "ipython",
    "version": 3
   },
   "file_extension": ".py",
   "mimetype": "text/x-python",
   "name": "python",
   "nbconvert_exporter": "python",
   "pygments_lexer": "ipython3",
   "version": "3.9.13"
  }
 },
 "nbformat": 4,
 "nbformat_minor": 5
}
